{
 "cells": [
  {
   "cell_type": "markdown",
   "metadata": {},
   "source": [
    "# SoftMax Classification"
   ]
  },
  {
   "cell_type": "code",
   "execution_count": 3,
   "metadata": {
    "collapsed": true
   },
   "outputs": [],
   "source": [
    "import tensorflow as tf\n",
    "\n",
    "x_data = [[1, 2, 1, 1],\n",
    "          [2, 1, 3, 2],\n",
    "          [3, 1, 3, 4],\n",
    "          [4, 1, 5, 5],\n",
    "          [1, 7, 5, 5],\n",
    "          [1, 2, 5, 6],\n",
    "          [1, 6, 6, 6],\n",
    "          [1, 7, 7, 7]]\n",
    "y_data = [[0, 0, 1],\n",
    "          [0, 0, 1],\n",
    "          [0, 0, 1],\n",
    "          [0, 1, 0],\n",
    "          [0, 1, 0],\n",
    "          [0, 1, 0],\n",
    "          [1, 0, 0],\n",
    "          [1, 0, 0]]\n",
    "\n",
    "X = tf.placeholder(tf.float32, shape=[None,4])\n",
    "Y = tf.placeholder(tf.float32, shape=[None,3])\n",
    "nb_classes = 3\n",
    "\n",
    "W = tf.Variable(tf.random_normal([4,nb_classes]), name='weight')\n",
    "b = tf.Variable(tf.random_normal([nb_classes]), name='bias')"
   ]
  },
  {
   "cell_type": "code",
   "execution_count": 6,
   "metadata": {
    "collapsed": true
   },
   "outputs": [],
   "source": [
    "# Softmax activation\n",
    "# softmax = exp(Logits) / reduce_sum(exp(Logits), dim)\n",
    "hypothesis = tf.nn.softmax(tf.matmul(X,W) + b)\n",
    "\n",
    "# Cross entropy cost/loss\n",
    "cost = tf.reduce_mean(-tf.reduce_sum(Y * tf.log(hypothesis), axis=1))\n",
    "optimizer = tf.train.GradientDescentOptimizer(learning_rate=0.1).minimize(cost)"
   ]
  },
  {
   "cell_type": "code",
   "execution_count": 8,
   "metadata": {},
   "outputs": [
    {
     "name": "stdout",
     "output_type": "stream",
     "text": [
      "0 4.978219\n",
      "200 0.60657454\n",
      "400 0.5081714\n",
      "600 0.43165988\n",
      "800 0.362973\n",
      "1000 0.2941717\n",
      "1200 0.23449475\n",
      "1400 0.21296553\n",
      "1600 0.19503672\n",
      "1800 0.17977023\n",
      "2000 0.16662748\n"
     ]
    }
   ],
   "source": [
    "# Launch graph\n",
    "with tf.Session() as sess:\n",
    "    sess.run(tf.global_variables_initializer())\n",
    "    \n",
    "    for step in range(2001):\n",
    "        sess.run(optimizer, feed_dict={X:x_data, Y:y_data})\n",
    "        if step % 200 == 0:\n",
    "            print(step, sess.run(cost, feed_dict={X:x_data, Y:y_data}))"
   ]
  },
  {
   "cell_type": "markdown",
   "metadata": {},
   "source": [
    "# Test & One-Hot encoding"
   ]
  },
  {
   "cell_type": "code",
   "execution_count": 16,
   "metadata": {},
   "outputs": [
    {
     "name": "stdout",
     "output_type": "stream",
     "text": [
      "[[9.9813807e-01 4.1947132e-10 1.8618769e-03]] [0]\n",
      "--------------\n",
      "[[0.3805287  0.00646289 0.6130085 ]] [2]\n",
      "--------------\n",
      "[[9.9813807e-01 4.1947132e-10 1.8618769e-03]\n",
      " [3.8052869e-01 6.4628860e-03 6.1300850e-01]\n",
      " [1.5809187e-01 1.7228715e-01 6.6962099e-01]] [0 2 2]\n"
     ]
    }
   ],
   "source": [
    "hypothesis = tf.nn.softmax(tf.matmul(X,W) + b)\n",
    "\n",
    "# Testing & One-Hot encoding\n",
    "with tf.Session() as sess:\n",
    "    sess.run(tf.global_variables_initializer())\n",
    "    \n",
    "    a = sess.run(hypothesis, feed_dict={X: [[1, 11, 7, 9]]})\n",
    "    print(a, sess.run(tf.argmax(a, 1)))\n",
    "\n",
    "    print('--------------')\n",
    "\n",
    "    b = sess.run(hypothesis, feed_dict={X: [[1, 3, 4, 3]]})\n",
    "    print(b, sess.run(tf.argmax(b, 1)))\n",
    "    \n",
    "    print('--------------')\n",
    "\n",
    "    all = sess.run(hypothesis, feed_dict={\n",
    "                   X: [[1, 11, 7, 9], [1, 3, 4, 3], [1, 1, 0, 1]]})\n",
    "    print(all, sess.run(tf.argmax(all, 1)))"
   ]
  },
  {
   "cell_type": "markdown",
   "metadata": {},
   "source": [
    "# Fancy Softmax Classifier"
   ]
  },
  {
   "cell_type": "markdown",
   "metadata": {},
   "source": [
    "### Example) predicting animal type based on various features"
   ]
  },
  {
   "cell_type": "code",
   "execution_count": 20,
   "metadata": {
    "collapsed": true
   },
   "outputs": [],
   "source": [
    "import numpy as np\n",
    "\n",
    "xy = np.loadtxt('/Users/Baobab/Desktop/DeepLearningZeroToAll/data-04-zoo.csv',\n",
    "               delimiter=',', dtype=np.float32)\n",
    "x_data = xy[:, 0:-1]\n",
    "y_data = xy[:, [-1]]\n",
    "\n",
    "nb_classes = 7 # 0 ~ 6 classes\n",
    "\n",
    "X = tf.placeholder(tf.float32, [None, 16])\n",
    "Y = tf.placeholder(tf.int32, [None, 1])\n",
    "\n",
    "Y_one_hot = tf.one_hot(Y, nb_classes) \n",
    "Y_one_hot = tf.reshape(Y_one_hot, [-1, nb_classes]) # 1 인덱스를 제거, nb_classes만큼 \n",
    "\n",
    "W = tf.Variable(tf.random_normal([16, nb_classes]), name='weight')\n",
    "b = tf.Variable(tf.random_normal([1]), name='bias')\n",
    "\n",
    "# Softmax \n",
    "logits = tf.matmul(X, W) + b\n",
    "hypothesis = tf.nn.softmax(logits)\n",
    "\n",
    "# Cross Entropy\n",
    "cost_i = tf.nn.softmax_cross_entropy_with_logits(logits=logits, labels=Y_one_hot)\n",
    "\n",
    "cost = tf.reduce_mean(cost_i)\n",
    "optimizer = tf.train.GradientDescentOptimizer(learning_rate=0.1).minimize(cost)"
   ]
  },
  {
   "cell_type": "code",
   "execution_count": 25,
   "metadata": {},
   "outputs": [
    {
     "name": "stdout",
     "output_type": "stream",
     "text": [
      "Step:     0\tLoss: 4.900733\tAcc: 6.930693%\n",
      "Step:   200\tLoss: 0.343920\tAcc: 92.079210%\n",
      "Step:   400\tLoss: 0.228267\tAcc: 95.049506%\n",
      "Step:   600\tLoss: 0.172680\tAcc: 96.039605%\n",
      "Step:   800\tLoss: 0.138830\tAcc: 97.029704%\n",
      "Step:  1000\tLoss: 0.115804\tAcc: 97.029704%\n",
      "Step:  1200\tLoss: 0.099120\tAcc: 97.029704%\n",
      "Step:  1400\tLoss: 0.086524\tAcc: 100.000000%\n",
      "Step:  1600\tLoss: 0.076725\tAcc: 100.000000%\n",
      "Step:  1800\tLoss: 0.068916\tAcc: 100.000000%\n",
      "[True] Prediction : 0 True Y: 0\n",
      "[True] Prediction : 0 True Y: 0\n",
      "[True] Prediction : 3 True Y: 3\n",
      "[True] Prediction : 0 True Y: 0\n",
      "[True] Prediction : 0 True Y: 0\n",
      "[True] Prediction : 0 True Y: 0\n",
      "[True] Prediction : 0 True Y: 0\n",
      "[True] Prediction : 3 True Y: 3\n",
      "[True] Prediction : 3 True Y: 3\n",
      "[True] Prediction : 0 True Y: 0\n",
      "[True] Prediction : 0 True Y: 0\n",
      "[True] Prediction : 1 True Y: 1\n",
      "[True] Prediction : 3 True Y: 3\n",
      "[True] Prediction : 6 True Y: 6\n",
      "[True] Prediction : 6 True Y: 6\n",
      "[True] Prediction : 6 True Y: 6\n",
      "[True] Prediction : 1 True Y: 1\n",
      "[True] Prediction : 0 True Y: 0\n",
      "[True] Prediction : 3 True Y: 3\n",
      "[True] Prediction : 0 True Y: 0\n",
      "[True] Prediction : 1 True Y: 1\n",
      "[True] Prediction : 1 True Y: 1\n",
      "[True] Prediction : 0 True Y: 0\n",
      "[True] Prediction : 1 True Y: 1\n",
      "[True] Prediction : 5 True Y: 5\n",
      "[True] Prediction : 4 True Y: 4\n",
      "[True] Prediction : 4 True Y: 4\n",
      "[True] Prediction : 0 True Y: 0\n",
      "[True] Prediction : 0 True Y: 0\n",
      "[True] Prediction : 0 True Y: 0\n",
      "[True] Prediction : 5 True Y: 5\n",
      "[True] Prediction : 0 True Y: 0\n",
      "[True] Prediction : 0 True Y: 0\n",
      "[True] Prediction : 1 True Y: 1\n",
      "[True] Prediction : 3 True Y: 3\n",
      "[True] Prediction : 0 True Y: 0\n",
      "[True] Prediction : 0 True Y: 0\n",
      "[True] Prediction : 1 True Y: 1\n",
      "[True] Prediction : 3 True Y: 3\n",
      "[True] Prediction : 5 True Y: 5\n",
      "[True] Prediction : 5 True Y: 5\n",
      "[True] Prediction : 1 True Y: 1\n",
      "[True] Prediction : 5 True Y: 5\n",
      "[True] Prediction : 1 True Y: 1\n",
      "[True] Prediction : 0 True Y: 0\n",
      "[True] Prediction : 0 True Y: 0\n",
      "[True] Prediction : 6 True Y: 6\n",
      "[True] Prediction : 0 True Y: 0\n",
      "[True] Prediction : 0 True Y: 0\n",
      "[True] Prediction : 0 True Y: 0\n",
      "[True] Prediction : 0 True Y: 0\n",
      "[True] Prediction : 5 True Y: 5\n",
      "[True] Prediction : 4 True Y: 4\n",
      "[True] Prediction : 6 True Y: 6\n",
      "[True] Prediction : 0 True Y: 0\n",
      "[True] Prediction : 0 True Y: 0\n",
      "[True] Prediction : 1 True Y: 1\n",
      "[True] Prediction : 1 True Y: 1\n",
      "[True] Prediction : 1 True Y: 1\n",
      "[True] Prediction : 1 True Y: 1\n",
      "[True] Prediction : 3 True Y: 3\n",
      "[True] Prediction : 3 True Y: 3\n",
      "[True] Prediction : 2 True Y: 2\n",
      "[True] Prediction : 0 True Y: 0\n",
      "[True] Prediction : 0 True Y: 0\n",
      "[True] Prediction : 0 True Y: 0\n",
      "[True] Prediction : 0 True Y: 0\n",
      "[True] Prediction : 0 True Y: 0\n",
      "[True] Prediction : 0 True Y: 0\n",
      "[True] Prediction : 0 True Y: 0\n",
      "[True] Prediction : 0 True Y: 0\n",
      "[True] Prediction : 1 True Y: 1\n",
      "[True] Prediction : 6 True Y: 6\n",
      "[True] Prediction : 3 True Y: 3\n",
      "[True] Prediction : 0 True Y: 0\n",
      "[True] Prediction : 0 True Y: 0\n",
      "[True] Prediction : 2 True Y: 2\n",
      "[True] Prediction : 6 True Y: 6\n",
      "[True] Prediction : 1 True Y: 1\n",
      "[True] Prediction : 1 True Y: 1\n",
      "[True] Prediction : 2 True Y: 2\n",
      "[True] Prediction : 6 True Y: 6\n",
      "[True] Prediction : 3 True Y: 3\n",
      "[True] Prediction : 1 True Y: 1\n",
      "[True] Prediction : 0 True Y: 0\n",
      "[True] Prediction : 6 True Y: 6\n",
      "[True] Prediction : 3 True Y: 3\n",
      "[True] Prediction : 1 True Y: 1\n",
      "[True] Prediction : 5 True Y: 5\n",
      "[True] Prediction : 4 True Y: 4\n",
      "[True] Prediction : 2 True Y: 2\n",
      "[True] Prediction : 2 True Y: 2\n",
      "[True] Prediction : 3 True Y: 3\n",
      "[True] Prediction : 0 True Y: 0\n",
      "[True] Prediction : 0 True Y: 0\n",
      "[True] Prediction : 1 True Y: 1\n",
      "[True] Prediction : 0 True Y: 0\n",
      "[True] Prediction : 5 True Y: 5\n",
      "[True] Prediction : 0 True Y: 0\n",
      "[True] Prediction : 6 True Y: 6\n",
      "[True] Prediction : 1 True Y: 1\n"
     ]
    }
   ],
   "source": [
    "# Prediction, Accuracy\n",
    "prediction = tf.argmax(hypothesis, 1)\n",
    "correct_prediction = tf.equal(prediction, tf.argmax(Y_one_hot, 1))\n",
    "accuracy = tf.reduce_mean(tf.cast(correct_prediction, tf.float32))\n",
    "\n",
    "# Launch the graph\n",
    "with tf.Session() as sess:\n",
    "    sess.run(tf.global_variables_initializer())\n",
    "    \n",
    "    for step in range(2000):\n",
    "        sess.run(optimizer, feed_dict={X:x_data, Y:y_data})\n",
    "        if step % 200 == 0:\n",
    "            loss, acc = sess.run([cost, accuracy], feed_dict={X:x_data, Y:y_data})\n",
    "            print(\"Step: {:5}\\tLoss: {:3f}\\tAcc: {:2%}\".format(step, loss, acc))\n",
    "            \n",
    "    #\n",
    "    pred = sess.run(prediction, feed_dict={X:x_data})\n",
    "    \n",
    "    for p, y in zip(pred, y_data.flatten()):\n",
    "        print(\"[{}] Prediction : {} True Y: {}\". format(p == int(y), p, int(y)))"
   ]
  },
  {
   "cell_type": "code",
   "execution_count": null,
   "metadata": {
    "collapsed": true
   },
   "outputs": [],
   "source": []
  }
 ],
 "metadata": {
  "kernelspec": {
   "display_name": "Python 3",
   "language": "python",
   "name": "python3"
  },
  "language_info": {
   "codemirror_mode": {
    "name": "ipython",
    "version": 3
   },
   "file_extension": ".py",
   "mimetype": "text/x-python",
   "name": "python",
   "nbconvert_exporter": "python",
   "pygments_lexer": "ipython3",
   "version": "3.6.3"
  }
 },
 "nbformat": 4,
 "nbformat_minor": 2
}
